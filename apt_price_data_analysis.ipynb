{
  "nbformat": 4,
  "nbformat_minor": 0,
  "metadata": {
    "colab": {
      "provenance": [],
      "gpuType": "T4",
      "include_colab_link": true
    },
    "kernelspec": {
      "name": "python3",
      "display_name": "Python 3"
    },
    "language_info": {
      "name": "python"
    }
  },
  "cells": [
    {
      "cell_type": "markdown",
      "metadata": {
        "id": "view-in-github",
        "colab_type": "text"
      },
      "source": [
        "<a href=\"https://colab.research.google.com/github/chang-ho-jeon/test_analysis/blob/main/apt_price_data_analysis.ipynb\" target=\"_parent\"><img src=\"https://colab.research.google.com/assets/colab-badge.svg\" alt=\"Open In Colab\"/></a>"
      ]
    },
    {
      "cell_type": "markdown",
      "source": [
        "\n",
        "- 데이터: [KB부동산 데이터 허브](https://data.kbland.kr/) → KB 통계 → 주택가격동향조사\n",
        "    - [주간 아파트 매매가격지수](https://data.kbland.kr/kbstats/wmh?tIdx=HT01&tsIdx=weekAptSalePriceInx) 전체('24년 10월 7일 기준)\n",
        "    - [주간 아파트 전세가격지수](https://data.kbland.kr/kbstats/wmh?tIdx=HT01&tsIdx=weekAptRentPriceInx) 전체('24년 10월 7일 기준)\n",
        "\n",
        "- 가격지수: 기준시점(22년 1월 10일) 대비 조사 시점(24년 10월)의 가격 비율 (주택별·지역별 가중)"
      ],
      "metadata": {
        "id": "CMa89p5z-wuX"
      }
    },
    {
      "cell_type": "markdown",
      "source": [
        "# 환경설정"
      ],
      "metadata": {
        "id": "AtHI6kYY2DD1"
      }
    },
    {
      "cell_type": "code",
      "source": [
        "!sudo apt-get install -y fonts-nanum\n",
        "!sudo fc-cache -fv\n",
        "!rm ~/.cache/matplotlib -rf"
      ],
      "metadata": {
        "colab": {
          "base_uri": "https://localhost:8080/"
        },
        "collapsed": true,
        "id": "BX494tJ61yZS",
        "outputId": "80d53a42-d3d1-41e4-8125-7ba942c8c84b"
      },
      "execution_count": 10,
      "outputs": [
        {
          "output_type": "stream",
          "name": "stdout",
          "text": [
            "Reading package lists... Done\n",
            "Building dependency tree... Done\n",
            "Reading state information... Done\n",
            "fonts-nanum is already the newest version (20200506-1).\n",
            "0 upgraded, 0 newly installed, 0 to remove and 49 not upgraded.\n",
            "/usr/share/fonts: caching, new cache contents: 0 fonts, 1 dirs\n",
            "/usr/share/fonts/truetype: caching, new cache contents: 0 fonts, 3 dirs\n",
            "/usr/share/fonts/truetype/humor-sans: caching, new cache contents: 1 fonts, 0 dirs\n",
            "/usr/share/fonts/truetype/liberation: caching, new cache contents: 16 fonts, 0 dirs\n",
            "/usr/share/fonts/truetype/nanum: caching, new cache contents: 12 fonts, 0 dirs\n",
            "/usr/local/share/fonts: caching, new cache contents: 0 fonts, 0 dirs\n",
            "/root/.local/share/fonts: skipping, no such directory\n",
            "/root/.fonts: skipping, no such directory\n",
            "/usr/share/fonts/truetype: skipping, looped directory detected\n",
            "/usr/share/fonts/truetype/humor-sans: skipping, looped directory detected\n",
            "/usr/share/fonts/truetype/liberation: skipping, looped directory detected\n",
            "/usr/share/fonts/truetype/nanum: skipping, looped directory detected\n",
            "/var/cache/fontconfig: cleaning cache directory\n",
            "/root/.cache/fontconfig: not cleaning non-existent cache directory\n",
            "/root/.fontconfig: not cleaning non-existent cache directory\n",
            "fc-cache: succeeded\n"
          ]
        }
      ]
    },
    {
      "cell_type": "code",
      "source": [
        "import os\n",
        "os.getcwd()"
      ],
      "metadata": {
        "colab": {
          "base_uri": "https://localhost:8080/",
          "height": 35
        },
        "id": "sMX0kSgkCO2G",
        "outputId": "25789b32-247e-4a51-be07-57a7d4f8a9c8"
      },
      "execution_count": 11,
      "outputs": [
        {
          "output_type": "execute_result",
          "data": {
            "text/plain": [
              "'/content'"
            ],
            "application/vnd.google.colaboratory.intrinsic+json": {
              "type": "string"
            }
          },
          "metadata": {},
          "execution_count": 11
        }
      ]
    },
    {
      "cell_type": "markdown",
      "source": [
        "# 데이터 불러오기\n",
        "두 개의 엑셀파일을 읽어와서 각각 `df_sale`, `df_rent` 변수에 할당하고, shape을 확인"
      ],
      "metadata": {
        "id": "0hR6rL9b_nLd"
      }
    },
    {
      "cell_type": "code",
      "execution_count": 13,
      "metadata": {
        "id": "f3SLOixx-vt8",
        "colab": {
          "base_uri": "https://localhost:8080/"
        },
        "outputId": "3f7eb113-ae2a-4560-977e-f2122e9f4fb9"
      },
      "outputs": [
        {
          "output_type": "execute_result",
          "data": {
            "text/plain": [
              "((278, 833), (278, 833))"
            ]
          },
          "metadata": {},
          "execution_count": 13
        }
      ],
      "source": [
        "# 코드를 작성하시오\n",
        "import pandas as pd\n",
        "\n",
        "df_sale = pd.read_excel('/content/주간 아파트 매매가격지수_20241018.xlsx')\n",
        "df_rent = pd.read_excel('/content/주간 아파트 전세가격지수_20241018.xlsx')\n",
        "df_sale.shape, df_rent.shape"
      ]
    },
    {
      "cell_type": "code",
      "source": [
        "df_sale.head()"
      ],
      "metadata": {
        "colab": {
          "base_uri": "https://localhost:8080/",
          "height": 446
        },
        "id": "D4SHL_63L8kf",
        "outputId": "efc694f2-1ad5-4453-a46b-b55cdae06606"
      },
      "execution_count": 14,
      "outputs": [
        {
          "output_type": "execute_result",
          "data": {
            "text/plain": [
              "      지역명 2008-04-07 00:00:52 2008-04-14 00:00:52 2008-04-21 00:00:52  \\\n",
              "0      전국           58.012546           58.088746           58.197535   \n",
              "1      서울           59.733068            59.88161           60.042211   \n",
              "2  강북14개구           59.738949           59.980174           60.250467   \n",
              "3     종로구           68.904068           69.003505           69.014767   \n",
              "4      중구           66.375784           66.420175           66.554633   \n",
              "\n",
              "  2008-04-28 00:00:52 2008-05-05 00:00:52 2008-05-12 00:00:52  \\\n",
              "0           58.281398           58.355038           58.427476   \n",
              "1           60.163088           60.278446           60.387011   \n",
              "2           60.443754           60.625386           60.795838   \n",
              "3            69.06011            69.06011           69.019522   \n",
              "4            66.66407           66.709373           66.709373   \n",
              "\n",
              "  2008-05-19 00:00:52 2008-05-26 00:00:52 2008-06-02 00:00:52  ...  \\\n",
              "0           58.493162           58.553072           58.616457  ...   \n",
              "1           60.458109           60.525847           60.595353  ...   \n",
              "2           60.908856           61.036939           61.155861  ...   \n",
              "3           69.019522           69.060926           69.101609  ...   \n",
              "4           66.709373           66.709373           66.709373  ...   \n",
              "\n",
              "  2024-08-05 00:00:52 2024-08-12 00:00:52 2024-08-19 00:00:52  \\\n",
              "0           89.360992           89.405868           89.439824   \n",
              "1           91.319067           91.555361           91.783405   \n",
              "2           88.495919           88.664465           88.818466   \n",
              "3           98.687133           98.810194           98.870809   \n",
              "4           94.174342           94.372539           94.747151   \n",
              "\n",
              "  2024-08-26 00:00:52 2024-09-02 00:00:52 2024-09-09 00:00:52  \\\n",
              "0           89.486678           89.530720           89.566492   \n",
              "1           92.008437           92.208397           92.354427   \n",
              "2           88.998513           89.147868           89.256582   \n",
              "3           99.008700           99.156805           99.250936   \n",
              "4           94.884112           95.088102           95.561633   \n",
              "\n",
              "  2024-09-23 00:00:52 2024-09-30 00:00:52 2024-10-07 00:00:52  \\\n",
              "0           89.596423           89.615430           89.641072   \n",
              "1           92.520904           92.603639           92.700462   \n",
              "2           89.367506           89.416088           89.494905   \n",
              "3           99.319963           99.304188           99.310792   \n",
              "4           95.700824           95.731491           95.852437   \n",
              "\n",
              "  2024-10-14 00:00:52  \n",
              "0           89.660654  \n",
              "1           92.815979  \n",
              "2           89.579069  \n",
              "3           99.308945  \n",
              "4           95.935588  \n",
              "\n",
              "[5 rows x 833 columns]"
            ],
            "text/html": [
              "\n",
              "  <div id=\"df-9aa99224-35d3-43dc-9fa5-cafeb1621734\" class=\"colab-df-container\">\n",
              "    <div>\n",
              "<style scoped>\n",
              "    .dataframe tbody tr th:only-of-type {\n",
              "        vertical-align: middle;\n",
              "    }\n",
              "\n",
              "    .dataframe tbody tr th {\n",
              "        vertical-align: top;\n",
              "    }\n",
              "\n",
              "    .dataframe thead th {\n",
              "        text-align: right;\n",
              "    }\n",
              "</style>\n",
              "<table border=\"1\" class=\"dataframe\">\n",
              "  <thead>\n",
              "    <tr style=\"text-align: right;\">\n",
              "      <th></th>\n",
              "      <th>지역명</th>\n",
              "      <th>2008-04-07 00:00:52</th>\n",
              "      <th>2008-04-14 00:00:52</th>\n",
              "      <th>2008-04-21 00:00:52</th>\n",
              "      <th>2008-04-28 00:00:52</th>\n",
              "      <th>2008-05-05 00:00:52</th>\n",
              "      <th>2008-05-12 00:00:52</th>\n",
              "      <th>2008-05-19 00:00:52</th>\n",
              "      <th>2008-05-26 00:00:52</th>\n",
              "      <th>2008-06-02 00:00:52</th>\n",
              "      <th>...</th>\n",
              "      <th>2024-08-05 00:00:52</th>\n",
              "      <th>2024-08-12 00:00:52</th>\n",
              "      <th>2024-08-19 00:00:52</th>\n",
              "      <th>2024-08-26 00:00:52</th>\n",
              "      <th>2024-09-02 00:00:52</th>\n",
              "      <th>2024-09-09 00:00:52</th>\n",
              "      <th>2024-09-23 00:00:52</th>\n",
              "      <th>2024-09-30 00:00:52</th>\n",
              "      <th>2024-10-07 00:00:52</th>\n",
              "      <th>2024-10-14 00:00:52</th>\n",
              "    </tr>\n",
              "  </thead>\n",
              "  <tbody>\n",
              "    <tr>\n",
              "      <th>0</th>\n",
              "      <td>전국</td>\n",
              "      <td>58.012546</td>\n",
              "      <td>58.088746</td>\n",
              "      <td>58.197535</td>\n",
              "      <td>58.281398</td>\n",
              "      <td>58.355038</td>\n",
              "      <td>58.427476</td>\n",
              "      <td>58.493162</td>\n",
              "      <td>58.553072</td>\n",
              "      <td>58.616457</td>\n",
              "      <td>...</td>\n",
              "      <td>89.360992</td>\n",
              "      <td>89.405868</td>\n",
              "      <td>89.439824</td>\n",
              "      <td>89.486678</td>\n",
              "      <td>89.530720</td>\n",
              "      <td>89.566492</td>\n",
              "      <td>89.596423</td>\n",
              "      <td>89.615430</td>\n",
              "      <td>89.641072</td>\n",
              "      <td>89.660654</td>\n",
              "    </tr>\n",
              "    <tr>\n",
              "      <th>1</th>\n",
              "      <td>서울</td>\n",
              "      <td>59.733068</td>\n",
              "      <td>59.88161</td>\n",
              "      <td>60.042211</td>\n",
              "      <td>60.163088</td>\n",
              "      <td>60.278446</td>\n",
              "      <td>60.387011</td>\n",
              "      <td>60.458109</td>\n",
              "      <td>60.525847</td>\n",
              "      <td>60.595353</td>\n",
              "      <td>...</td>\n",
              "      <td>91.319067</td>\n",
              "      <td>91.555361</td>\n",
              "      <td>91.783405</td>\n",
              "      <td>92.008437</td>\n",
              "      <td>92.208397</td>\n",
              "      <td>92.354427</td>\n",
              "      <td>92.520904</td>\n",
              "      <td>92.603639</td>\n",
              "      <td>92.700462</td>\n",
              "      <td>92.815979</td>\n",
              "    </tr>\n",
              "    <tr>\n",
              "      <th>2</th>\n",
              "      <td>강북14개구</td>\n",
              "      <td>59.738949</td>\n",
              "      <td>59.980174</td>\n",
              "      <td>60.250467</td>\n",
              "      <td>60.443754</td>\n",
              "      <td>60.625386</td>\n",
              "      <td>60.795838</td>\n",
              "      <td>60.908856</td>\n",
              "      <td>61.036939</td>\n",
              "      <td>61.155861</td>\n",
              "      <td>...</td>\n",
              "      <td>88.495919</td>\n",
              "      <td>88.664465</td>\n",
              "      <td>88.818466</td>\n",
              "      <td>88.998513</td>\n",
              "      <td>89.147868</td>\n",
              "      <td>89.256582</td>\n",
              "      <td>89.367506</td>\n",
              "      <td>89.416088</td>\n",
              "      <td>89.494905</td>\n",
              "      <td>89.579069</td>\n",
              "    </tr>\n",
              "    <tr>\n",
              "      <th>3</th>\n",
              "      <td>종로구</td>\n",
              "      <td>68.904068</td>\n",
              "      <td>69.003505</td>\n",
              "      <td>69.014767</td>\n",
              "      <td>69.06011</td>\n",
              "      <td>69.06011</td>\n",
              "      <td>69.019522</td>\n",
              "      <td>69.019522</td>\n",
              "      <td>69.060926</td>\n",
              "      <td>69.101609</td>\n",
              "      <td>...</td>\n",
              "      <td>98.687133</td>\n",
              "      <td>98.810194</td>\n",
              "      <td>98.870809</td>\n",
              "      <td>99.008700</td>\n",
              "      <td>99.156805</td>\n",
              "      <td>99.250936</td>\n",
              "      <td>99.319963</td>\n",
              "      <td>99.304188</td>\n",
              "      <td>99.310792</td>\n",
              "      <td>99.308945</td>\n",
              "    </tr>\n",
              "    <tr>\n",
              "      <th>4</th>\n",
              "      <td>중구</td>\n",
              "      <td>66.375784</td>\n",
              "      <td>66.420175</td>\n",
              "      <td>66.554633</td>\n",
              "      <td>66.66407</td>\n",
              "      <td>66.709373</td>\n",
              "      <td>66.709373</td>\n",
              "      <td>66.709373</td>\n",
              "      <td>66.709373</td>\n",
              "      <td>66.709373</td>\n",
              "      <td>...</td>\n",
              "      <td>94.174342</td>\n",
              "      <td>94.372539</td>\n",
              "      <td>94.747151</td>\n",
              "      <td>94.884112</td>\n",
              "      <td>95.088102</td>\n",
              "      <td>95.561633</td>\n",
              "      <td>95.700824</td>\n",
              "      <td>95.731491</td>\n",
              "      <td>95.852437</td>\n",
              "      <td>95.935588</td>\n",
              "    </tr>\n",
              "  </tbody>\n",
              "</table>\n",
              "<p>5 rows × 833 columns</p>\n",
              "</div>\n",
              "    <div class=\"colab-df-buttons\">\n",
              "\n",
              "  <div class=\"colab-df-container\">\n",
              "    <button class=\"colab-df-convert\" onclick=\"convertToInteractive('df-9aa99224-35d3-43dc-9fa5-cafeb1621734')\"\n",
              "            title=\"Convert this dataframe to an interactive table.\"\n",
              "            style=\"display:none;\">\n",
              "\n",
              "  <svg xmlns=\"http://www.w3.org/2000/svg\" height=\"24px\" viewBox=\"0 -960 960 960\">\n",
              "    <path d=\"M120-120v-720h720v720H120Zm60-500h600v-160H180v160Zm220 220h160v-160H400v160Zm0 220h160v-160H400v160ZM180-400h160v-160H180v160Zm440 0h160v-160H620v160ZM180-180h160v-160H180v160Zm440 0h160v-160H620v160Z\"/>\n",
              "  </svg>\n",
              "    </button>\n",
              "\n",
              "  <style>\n",
              "    .colab-df-container {\n",
              "      display:flex;\n",
              "      gap: 12px;\n",
              "    }\n",
              "\n",
              "    .colab-df-convert {\n",
              "      background-color: #E8F0FE;\n",
              "      border: none;\n",
              "      border-radius: 50%;\n",
              "      cursor: pointer;\n",
              "      display: none;\n",
              "      fill: #1967D2;\n",
              "      height: 32px;\n",
              "      padding: 0 0 0 0;\n",
              "      width: 32px;\n",
              "    }\n",
              "\n",
              "    .colab-df-convert:hover {\n",
              "      background-color: #E2EBFA;\n",
              "      box-shadow: 0px 1px 2px rgba(60, 64, 67, 0.3), 0px 1px 3px 1px rgba(60, 64, 67, 0.15);\n",
              "      fill: #174EA6;\n",
              "    }\n",
              "\n",
              "    .colab-df-buttons div {\n",
              "      margin-bottom: 4px;\n",
              "    }\n",
              "\n",
              "    [theme=dark] .colab-df-convert {\n",
              "      background-color: #3B4455;\n",
              "      fill: #D2E3FC;\n",
              "    }\n",
              "\n",
              "    [theme=dark] .colab-df-convert:hover {\n",
              "      background-color: #434B5C;\n",
              "      box-shadow: 0px 1px 3px 1px rgba(0, 0, 0, 0.15);\n",
              "      filter: drop-shadow(0px 1px 2px rgba(0, 0, 0, 0.3));\n",
              "      fill: #FFFFFF;\n",
              "    }\n",
              "  </style>\n",
              "\n",
              "    <script>\n",
              "      const buttonEl =\n",
              "        document.querySelector('#df-9aa99224-35d3-43dc-9fa5-cafeb1621734 button.colab-df-convert');\n",
              "      buttonEl.style.display =\n",
              "        google.colab.kernel.accessAllowed ? 'block' : 'none';\n",
              "\n",
              "      async function convertToInteractive(key) {\n",
              "        const element = document.querySelector('#df-9aa99224-35d3-43dc-9fa5-cafeb1621734');\n",
              "        const dataTable =\n",
              "          await google.colab.kernel.invokeFunction('convertToInteractive',\n",
              "                                                    [key], {});\n",
              "        if (!dataTable) return;\n",
              "\n",
              "        const docLinkHtml = 'Like what you see? Visit the ' +\n",
              "          '<a target=\"_blank\" href=https://colab.research.google.com/notebooks/data_table.ipynb>data table notebook</a>'\n",
              "          + ' to learn more about interactive tables.';\n",
              "        element.innerHTML = '';\n",
              "        dataTable['output_type'] = 'display_data';\n",
              "        await google.colab.output.renderOutput(dataTable, element);\n",
              "        const docLink = document.createElement('div');\n",
              "        docLink.innerHTML = docLinkHtml;\n",
              "        element.appendChild(docLink);\n",
              "      }\n",
              "    </script>\n",
              "  </div>\n",
              "\n",
              "\n",
              "<div id=\"df-f3c60692-06e6-4f5a-b768-f4c53b152b98\">\n",
              "  <button class=\"colab-df-quickchart\" onclick=\"quickchart('df-f3c60692-06e6-4f5a-b768-f4c53b152b98')\"\n",
              "            title=\"Suggest charts\"\n",
              "            style=\"display:none;\">\n",
              "\n",
              "<svg xmlns=\"http://www.w3.org/2000/svg\" height=\"24px\"viewBox=\"0 0 24 24\"\n",
              "     width=\"24px\">\n",
              "    <g>\n",
              "        <path d=\"M19 3H5c-1.1 0-2 .9-2 2v14c0 1.1.9 2 2 2h14c1.1 0 2-.9 2-2V5c0-1.1-.9-2-2-2zM9 17H7v-7h2v7zm4 0h-2V7h2v10zm4 0h-2v-4h2v4z\"/>\n",
              "    </g>\n",
              "</svg>\n",
              "  </button>\n",
              "\n",
              "<style>\n",
              "  .colab-df-quickchart {\n",
              "      --bg-color: #E8F0FE;\n",
              "      --fill-color: #1967D2;\n",
              "      --hover-bg-color: #E2EBFA;\n",
              "      --hover-fill-color: #174EA6;\n",
              "      --disabled-fill-color: #AAA;\n",
              "      --disabled-bg-color: #DDD;\n",
              "  }\n",
              "\n",
              "  [theme=dark] .colab-df-quickchart {\n",
              "      --bg-color: #3B4455;\n",
              "      --fill-color: #D2E3FC;\n",
              "      --hover-bg-color: #434B5C;\n",
              "      --hover-fill-color: #FFFFFF;\n",
              "      --disabled-bg-color: #3B4455;\n",
              "      --disabled-fill-color: #666;\n",
              "  }\n",
              "\n",
              "  .colab-df-quickchart {\n",
              "    background-color: var(--bg-color);\n",
              "    border: none;\n",
              "    border-radius: 50%;\n",
              "    cursor: pointer;\n",
              "    display: none;\n",
              "    fill: var(--fill-color);\n",
              "    height: 32px;\n",
              "    padding: 0;\n",
              "    width: 32px;\n",
              "  }\n",
              "\n",
              "  .colab-df-quickchart:hover {\n",
              "    background-color: var(--hover-bg-color);\n",
              "    box-shadow: 0 1px 2px rgba(60, 64, 67, 0.3), 0 1px 3px 1px rgba(60, 64, 67, 0.15);\n",
              "    fill: var(--button-hover-fill-color);\n",
              "  }\n",
              "\n",
              "  .colab-df-quickchart-complete:disabled,\n",
              "  .colab-df-quickchart-complete:disabled:hover {\n",
              "    background-color: var(--disabled-bg-color);\n",
              "    fill: var(--disabled-fill-color);\n",
              "    box-shadow: none;\n",
              "  }\n",
              "\n",
              "  .colab-df-spinner {\n",
              "    border: 2px solid var(--fill-color);\n",
              "    border-color: transparent;\n",
              "    border-bottom-color: var(--fill-color);\n",
              "    animation:\n",
              "      spin 1s steps(1) infinite;\n",
              "  }\n",
              "\n",
              "  @keyframes spin {\n",
              "    0% {\n",
              "      border-color: transparent;\n",
              "      border-bottom-color: var(--fill-color);\n",
              "      border-left-color: var(--fill-color);\n",
              "    }\n",
              "    20% {\n",
              "      border-color: transparent;\n",
              "      border-left-color: var(--fill-color);\n",
              "      border-top-color: var(--fill-color);\n",
              "    }\n",
              "    30% {\n",
              "      border-color: transparent;\n",
              "      border-left-color: var(--fill-color);\n",
              "      border-top-color: var(--fill-color);\n",
              "      border-right-color: var(--fill-color);\n",
              "    }\n",
              "    40% {\n",
              "      border-color: transparent;\n",
              "      border-right-color: var(--fill-color);\n",
              "      border-top-color: var(--fill-color);\n",
              "    }\n",
              "    60% {\n",
              "      border-color: transparent;\n",
              "      border-right-color: var(--fill-color);\n",
              "    }\n",
              "    80% {\n",
              "      border-color: transparent;\n",
              "      border-right-color: var(--fill-color);\n",
              "      border-bottom-color: var(--fill-color);\n",
              "    }\n",
              "    90% {\n",
              "      border-color: transparent;\n",
              "      border-bottom-color: var(--fill-color);\n",
              "    }\n",
              "  }\n",
              "</style>\n",
              "\n",
              "  <script>\n",
              "    async function quickchart(key) {\n",
              "      const quickchartButtonEl =\n",
              "        document.querySelector('#' + key + ' button');\n",
              "      quickchartButtonEl.disabled = true;  // To prevent multiple clicks.\n",
              "      quickchartButtonEl.classList.add('colab-df-spinner');\n",
              "      try {\n",
              "        const charts = await google.colab.kernel.invokeFunction(\n",
              "            'suggestCharts', [key], {});\n",
              "      } catch (error) {\n",
              "        console.error('Error during call to suggestCharts:', error);\n",
              "      }\n",
              "      quickchartButtonEl.classList.remove('colab-df-spinner');\n",
              "      quickchartButtonEl.classList.add('colab-df-quickchart-complete');\n",
              "    }\n",
              "    (() => {\n",
              "      let quickchartButtonEl =\n",
              "        document.querySelector('#df-f3c60692-06e6-4f5a-b768-f4c53b152b98 button');\n",
              "      quickchartButtonEl.style.display =\n",
              "        google.colab.kernel.accessAllowed ? 'block' : 'none';\n",
              "    })();\n",
              "  </script>\n",
              "</div>\n",
              "\n",
              "    </div>\n",
              "  </div>\n"
            ],
            "application/vnd.google.colaboratory.intrinsic+json": {
              "type": "dataframe",
              "variable_name": "df_sale"
            }
          },
          "metadata": {},
          "execution_count": 14
        }
      ]
    },
    {
      "cell_type": "markdown",
      "source": [
        "## 데이터 구조 변경\n",
        " - 컬럼은 지역명, 인덱스는 시간 정보\n",
        " - 서울 지역만 필터링\n",
        " - 집계 데이터(예. 전국, 서울, 강북14개구 등)는 제외\n",
        " - 구조 변경 결과 shape: (831, 25)\n",
        " - 변경된 데이터는 신규 변수 `df_sale_seoul`와 `df_rent_seoul`에 할당\n",
        "\n",
        " (예시)\n"
      ],
      "metadata": {
        "id": "zzmRx6haTC9S"
      }
    },
    {
      "cell_type": "markdown",
      "source": [
        " ![image.png](data:image/png;base64,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)"
      ],
      "metadata": {
        "id": "eIa0uwOQTcYK"
      }
    },
    {
      "cell_type": "code",
      "source": [
        "# 코드를 작성하시오\n",
        "# 지역명 컬럼을 인덱스로 설정\n",
        "df_sale = df_sale.set_index('지역명')"
      ],
      "metadata": {
        "id": "pafDoz5sMwVS"
      },
      "execution_count": 15,
      "outputs": []
    },
    {
      "cell_type": "code",
      "source": [
        "# 인덱스의 이름을 초기화\n",
        "df_sale.index.name = None"
      ],
      "metadata": {
        "id": "h_yzYlNfM9iT"
      },
      "execution_count": 16,
      "outputs": []
    },
    {
      "cell_type": "code",
      "source": [
        "# transpose\n",
        "df_sale = df_sale.T"
      ],
      "metadata": {
        "id": "7j_ZbcrMAAGR"
      },
      "execution_count": 17,
      "outputs": []
    },
    {
      "cell_type": "code",
      "source": [
        "df_sale = df_sale.iloc[:, 3:29].drop('강남11개구', axis=1)"
      ],
      "metadata": {
        "id": "X0swddvKNP2J"
      },
      "execution_count": 18,
      "outputs": []
    },
    {
      "cell_type": "code",
      "source": [
        "df_rent = df_rent.set_index('지역명')\n",
        "df_rent.index.name = None\n",
        "df_rent = df_rent.T\n",
        "df_rent = df_rent.iloc[:, 3:29].drop('강남11개구', axis=1)"
      ],
      "metadata": {
        "id": "VoYkjD1OOmL9"
      },
      "execution_count": 19,
      "outputs": []
    },
    {
      "cell_type": "code",
      "source": [
        "df_sale.shape, df_rent.shape"
      ],
      "metadata": {
        "colab": {
          "base_uri": "https://localhost:8080/"
        },
        "id": "s49mY5urOtIN",
        "outputId": "4c9710fc-75ee-4a53-df67-337e96547551"
      },
      "execution_count": 20,
      "outputs": [
        {
          "output_type": "execute_result",
          "data": {
            "text/plain": [
              "((832, 25), (832, 25))"
            ]
          },
          "metadata": {},
          "execution_count": 20
        }
      ]
    },
    {
      "cell_type": "markdown",
      "source": [
        "## Long Form으로 변경\n",
        "- `지역명`이 값으로 할당되도록 데이터 구조 변경\n",
        "- 최종 구조 변경된 컬럼은 `지역명`, `매매가격지수`의 컬럼을 가지고 있음(전세 데이터는 `지역명`, `전세가격지수`의 컬럼을 가지고 있음)\n",
        "- 변경한 데이터는 각각 `df_sale_seoul_long`, `df_rent_seoul_long` 에 할당\n",
        "- 변경된 데이터의 shape: (20775, 2)"
      ],
      "metadata": {
        "id": "LoenBWD6UNlX"
      }
    },
    {
      "cell_type": "markdown",
      "source": [
        "![image.png](data:image/png;base64,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)"
      ],
      "metadata": {
        "id": "nqpiLyDRUjS_"
      }
    },
    {
      "cell_type": "code",
      "source": [
        "df_sale.head(1)"
      ],
      "metadata": {
        "colab": {
          "base_uri": "https://localhost:8080/",
          "height": 165
        },
        "id": "6biSHThoPyBa",
        "outputId": "cc13be74-c5bd-4bc6-9664-f9a22385b9e4"
      },
      "execution_count": 21,
      "outputs": [
        {
          "output_type": "execute_result",
          "data": {
            "text/plain": [
              "                           종로구         중구        용산구        성동구        광진구  \\\n",
              "2008-04-07 00:00:52  68.904068  66.375784  65.826753  61.286807  62.984619   \n",
              "\n",
              "                          동대문구        중랑구        성북구        강북구        도봉구  \\\n",
              "2008-04-07 00:00:52  60.259456  61.849069  57.838799  63.503173  61.965388   \n",
              "\n",
              "                     ...        강서구        구로구        금천구       영등포구  \\\n",
              "2008-04-07 00:00:52  ...  61.050701  55.791275  60.800721  54.170221   \n",
              "\n",
              "                           동작구       관악구        서초구        강남구        송파구  \\\n",
              "2008-04-07 00:00:52  58.258467  62.19232  61.696444  62.208806  61.791658   \n",
              "\n",
              "                           강동구  \n",
              "2008-04-07 00:00:52  62.468863  \n",
              "\n",
              "[1 rows x 25 columns]"
            ],
            "text/html": [
              "\n",
              "  <div id=\"df-9102bb8a-0360-4692-bfb9-79f7e05f8b2d\" class=\"colab-df-container\">\n",
              "    <div>\n",
              "<style scoped>\n",
              "    .dataframe tbody tr th:only-of-type {\n",
              "        vertical-align: middle;\n",
              "    }\n",
              "\n",
              "    .dataframe tbody tr th {\n",
              "        vertical-align: top;\n",
              "    }\n",
              "\n",
              "    .dataframe thead th {\n",
              "        text-align: right;\n",
              "    }\n",
              "</style>\n",
              "<table border=\"1\" class=\"dataframe\">\n",
              "  <thead>\n",
              "    <tr style=\"text-align: right;\">\n",
              "      <th></th>\n",
              "      <th>종로구</th>\n",
              "      <th>중구</th>\n",
              "      <th>용산구</th>\n",
              "      <th>성동구</th>\n",
              "      <th>광진구</th>\n",
              "      <th>동대문구</th>\n",
              "      <th>중랑구</th>\n",
              "      <th>성북구</th>\n",
              "      <th>강북구</th>\n",
              "      <th>도봉구</th>\n",
              "      <th>...</th>\n",
              "      <th>강서구</th>\n",
              "      <th>구로구</th>\n",
              "      <th>금천구</th>\n",
              "      <th>영등포구</th>\n",
              "      <th>동작구</th>\n",
              "      <th>관악구</th>\n",
              "      <th>서초구</th>\n",
              "      <th>강남구</th>\n",
              "      <th>송파구</th>\n",
              "      <th>강동구</th>\n",
              "    </tr>\n",
              "  </thead>\n",
              "  <tbody>\n",
              "    <tr>\n",
              "      <th>2008-04-07 00:00:52</th>\n",
              "      <td>68.904068</td>\n",
              "      <td>66.375784</td>\n",
              "      <td>65.826753</td>\n",
              "      <td>61.286807</td>\n",
              "      <td>62.984619</td>\n",
              "      <td>60.259456</td>\n",
              "      <td>61.849069</td>\n",
              "      <td>57.838799</td>\n",
              "      <td>63.503173</td>\n",
              "      <td>61.965388</td>\n",
              "      <td>...</td>\n",
              "      <td>61.050701</td>\n",
              "      <td>55.791275</td>\n",
              "      <td>60.800721</td>\n",
              "      <td>54.170221</td>\n",
              "      <td>58.258467</td>\n",
              "      <td>62.19232</td>\n",
              "      <td>61.696444</td>\n",
              "      <td>62.208806</td>\n",
              "      <td>61.791658</td>\n",
              "      <td>62.468863</td>\n",
              "    </tr>\n",
              "  </tbody>\n",
              "</table>\n",
              "<p>1 rows × 25 columns</p>\n",
              "</div>\n",
              "    <div class=\"colab-df-buttons\">\n",
              "\n",
              "  <div class=\"colab-df-container\">\n",
              "    <button class=\"colab-df-convert\" onclick=\"convertToInteractive('df-9102bb8a-0360-4692-bfb9-79f7e05f8b2d')\"\n",
              "            title=\"Convert this dataframe to an interactive table.\"\n",
              "            style=\"display:none;\">\n",
              "\n",
              "  <svg xmlns=\"http://www.w3.org/2000/svg\" height=\"24px\" viewBox=\"0 -960 960 960\">\n",
              "    <path d=\"M120-120v-720h720v720H120Zm60-500h600v-160H180v160Zm220 220h160v-160H400v160Zm0 220h160v-160H400v160ZM180-400h160v-160H180v160Zm440 0h160v-160H620v160ZM180-180h160v-160H180v160Zm440 0h160v-160H620v160Z\"/>\n",
              "  </svg>\n",
              "    </button>\n",
              "\n",
              "  <style>\n",
              "    .colab-df-container {\n",
              "      display:flex;\n",
              "      gap: 12px;\n",
              "    }\n",
              "\n",
              "    .colab-df-convert {\n",
              "      background-color: #E8F0FE;\n",
              "      border: none;\n",
              "      border-radius: 50%;\n",
              "      cursor: pointer;\n",
              "      display: none;\n",
              "      fill: #1967D2;\n",
              "      height: 32px;\n",
              "      padding: 0 0 0 0;\n",
              "      width: 32px;\n",
              "    }\n",
              "\n",
              "    .colab-df-convert:hover {\n",
              "      background-color: #E2EBFA;\n",
              "      box-shadow: 0px 1px 2px rgba(60, 64, 67, 0.3), 0px 1px 3px 1px rgba(60, 64, 67, 0.15);\n",
              "      fill: #174EA6;\n",
              "    }\n",
              "\n",
              "    .colab-df-buttons div {\n",
              "      margin-bottom: 4px;\n",
              "    }\n",
              "\n",
              "    [theme=dark] .colab-df-convert {\n",
              "      background-color: #3B4455;\n",
              "      fill: #D2E3FC;\n",
              "    }\n",
              "\n",
              "    [theme=dark] .colab-df-convert:hover {\n",
              "      background-color: #434B5C;\n",
              "      box-shadow: 0px 1px 3px 1px rgba(0, 0, 0, 0.15);\n",
              "      filter: drop-shadow(0px 1px 2px rgba(0, 0, 0, 0.3));\n",
              "      fill: #FFFFFF;\n",
              "    }\n",
              "  </style>\n",
              "\n",
              "    <script>\n",
              "      const buttonEl =\n",
              "        document.querySelector('#df-9102bb8a-0360-4692-bfb9-79f7e05f8b2d button.colab-df-convert');\n",
              "      buttonEl.style.display =\n",
              "        google.colab.kernel.accessAllowed ? 'block' : 'none';\n",
              "\n",
              "      async function convertToInteractive(key) {\n",
              "        const element = document.querySelector('#df-9102bb8a-0360-4692-bfb9-79f7e05f8b2d');\n",
              "        const dataTable =\n",
              "          await google.colab.kernel.invokeFunction('convertToInteractive',\n",
              "                                                    [key], {});\n",
              "        if (!dataTable) return;\n",
              "\n",
              "        const docLinkHtml = 'Like what you see? Visit the ' +\n",
              "          '<a target=\"_blank\" href=https://colab.research.google.com/notebooks/data_table.ipynb>data table notebook</a>'\n",
              "          + ' to learn more about interactive tables.';\n",
              "        element.innerHTML = '';\n",
              "        dataTable['output_type'] = 'display_data';\n",
              "        await google.colab.output.renderOutput(dataTable, element);\n",
              "        const docLink = document.createElement('div');\n",
              "        docLink.innerHTML = docLinkHtml;\n",
              "        element.appendChild(docLink);\n",
              "      }\n",
              "    </script>\n",
              "  </div>\n",
              "\n",
              "\n",
              "    </div>\n",
              "  </div>\n"
            ],
            "application/vnd.google.colaboratory.intrinsic+json": {
              "type": "dataframe",
              "variable_name": "df_sale"
            }
          },
          "metadata": {},
          "execution_count": 21
        }
      ]
    },
    {
      "cell_type": "code",
      "source": [
        "# 코드를 작성하시오\n",
        "df_sale_seoul_long = df_sale.unstack().reset_index(level=0).copy()\n",
        "df_sale_seoul_long.columns = ['지역명', '매매가격지수']\n",
        "df_sale_seoul_long.head()"
      ],
      "metadata": {
        "id": "Y2v6dhhXClSY",
        "colab": {
          "base_uri": "https://localhost:8080/",
          "height": 206
        },
        "outputId": "7b8a09d3-f545-4d9c-db88-8a4ef5dc0387"
      },
      "execution_count": 22,
      "outputs": [
        {
          "output_type": "execute_result",
          "data": {
            "text/plain": [
              "                     지역명     매매가격지수\n",
              "2008-04-07 00:00:52  종로구  68.904068\n",
              "2008-04-14 00:00:52  종로구  69.003505\n",
              "2008-04-21 00:00:52  종로구  69.014767\n",
              "2008-04-28 00:00:52  종로구   69.06011\n",
              "2008-05-05 00:00:52  종로구   69.06011"
            ],
            "text/html": [
              "\n",
              "  <div id=\"df-602980f5-e5b1-468a-87ed-9095960a6aba\" class=\"colab-df-container\">\n",
              "    <div>\n",
              "<style scoped>\n",
              "    .dataframe tbody tr th:only-of-type {\n",
              "        vertical-align: middle;\n",
              "    }\n",
              "\n",
              "    .dataframe tbody tr th {\n",
              "        vertical-align: top;\n",
              "    }\n",
              "\n",
              "    .dataframe thead th {\n",
              "        text-align: right;\n",
              "    }\n",
              "</style>\n",
              "<table border=\"1\" class=\"dataframe\">\n",
              "  <thead>\n",
              "    <tr style=\"text-align: right;\">\n",
              "      <th></th>\n",
              "      <th>지역명</th>\n",
              "      <th>매매가격지수</th>\n",
              "    </tr>\n",
              "  </thead>\n",
              "  <tbody>\n",
              "    <tr>\n",
              "      <th>2008-04-07 00:00:52</th>\n",
              "      <td>종로구</td>\n",
              "      <td>68.904068</td>\n",
              "    </tr>\n",
              "    <tr>\n",
              "      <th>2008-04-14 00:00:52</th>\n",
              "      <td>종로구</td>\n",
              "      <td>69.003505</td>\n",
              "    </tr>\n",
              "    <tr>\n",
              "      <th>2008-04-21 00:00:52</th>\n",
              "      <td>종로구</td>\n",
              "      <td>69.014767</td>\n",
              "    </tr>\n",
              "    <tr>\n",
              "      <th>2008-04-28 00:00:52</th>\n",
              "      <td>종로구</td>\n",
              "      <td>69.06011</td>\n",
              "    </tr>\n",
              "    <tr>\n",
              "      <th>2008-05-05 00:00:52</th>\n",
              "      <td>종로구</td>\n",
              "      <td>69.06011</td>\n",
              "    </tr>\n",
              "  </tbody>\n",
              "</table>\n",
              "</div>\n",
              "    <div class=\"colab-df-buttons\">\n",
              "\n",
              "  <div class=\"colab-df-container\">\n",
              "    <button class=\"colab-df-convert\" onclick=\"convertToInteractive('df-602980f5-e5b1-468a-87ed-9095960a6aba')\"\n",
              "            title=\"Convert this dataframe to an interactive table.\"\n",
              "            style=\"display:none;\">\n",
              "\n",
              "  <svg xmlns=\"http://www.w3.org/2000/svg\" height=\"24px\" viewBox=\"0 -960 960 960\">\n",
              "    <path d=\"M120-120v-720h720v720H120Zm60-500h600v-160H180v160Zm220 220h160v-160H400v160Zm0 220h160v-160H400v160ZM180-400h160v-160H180v160Zm440 0h160v-160H620v160ZM180-180h160v-160H180v160Zm440 0h160v-160H620v160Z\"/>\n",
              "  </svg>\n",
              "    </button>\n",
              "\n",
              "  <style>\n",
              "    .colab-df-container {\n",
              "      display:flex;\n",
              "      gap: 12px;\n",
              "    }\n",
              "\n",
              "    .colab-df-convert {\n",
              "      background-color: #E8F0FE;\n",
              "      border: none;\n",
              "      border-radius: 50%;\n",
              "      cursor: pointer;\n",
              "      display: none;\n",
              "      fill: #1967D2;\n",
              "      height: 32px;\n",
              "      padding: 0 0 0 0;\n",
              "      width: 32px;\n",
              "    }\n",
              "\n",
              "    .colab-df-convert:hover {\n",
              "      background-color: #E2EBFA;\n",
              "      box-shadow: 0px 1px 2px rgba(60, 64, 67, 0.3), 0px 1px 3px 1px rgba(60, 64, 67, 0.15);\n",
              "      fill: #174EA6;\n",
              "    }\n",
              "\n",
              "    .colab-df-buttons div {\n",
              "      margin-bottom: 4px;\n",
              "    }\n",
              "\n",
              "    [theme=dark] .colab-df-convert {\n",
              "      background-color: #3B4455;\n",
              "      fill: #D2E3FC;\n",
              "    }\n",
              "\n",
              "    [theme=dark] .colab-df-convert:hover {\n",
              "      background-color: #434B5C;\n",
              "      box-shadow: 0px 1px 3px 1px rgba(0, 0, 0, 0.15);\n",
              "      filter: drop-shadow(0px 1px 2px rgba(0, 0, 0, 0.3));\n",
              "      fill: #FFFFFF;\n",
              "    }\n",
              "  </style>\n",
              "\n",
              "    <script>\n",
              "      const buttonEl =\n",
              "        document.querySelector('#df-602980f5-e5b1-468a-87ed-9095960a6aba button.colab-df-convert');\n",
              "      buttonEl.style.display =\n",
              "        google.colab.kernel.accessAllowed ? 'block' : 'none';\n",
              "\n",
              "      async function convertToInteractive(key) {\n",
              "        const element = document.querySelector('#df-602980f5-e5b1-468a-87ed-9095960a6aba');\n",
              "        const dataTable =\n",
              "          await google.colab.kernel.invokeFunction('convertToInteractive',\n",
              "                                                    [key], {});\n",
              "        if (!dataTable) return;\n",
              "\n",
              "        const docLinkHtml = 'Like what you see? Visit the ' +\n",
              "          '<a target=\"_blank\" href=https://colab.research.google.com/notebooks/data_table.ipynb>data table notebook</a>'\n",
              "          + ' to learn more about interactive tables.';\n",
              "        element.innerHTML = '';\n",
              "        dataTable['output_type'] = 'display_data';\n",
              "        await google.colab.output.renderOutput(dataTable, element);\n",
              "        const docLink = document.createElement('div');\n",
              "        docLink.innerHTML = docLinkHtml;\n",
              "        element.appendChild(docLink);\n",
              "      }\n",
              "    </script>\n",
              "  </div>\n",
              "\n",
              "\n",
              "<div id=\"df-e3d96a9e-f992-4419-b9cb-0eec550d8d49\">\n",
              "  <button class=\"colab-df-quickchart\" onclick=\"quickchart('df-e3d96a9e-f992-4419-b9cb-0eec550d8d49')\"\n",
              "            title=\"Suggest charts\"\n",
              "            style=\"display:none;\">\n",
              "\n",
              "<svg xmlns=\"http://www.w3.org/2000/svg\" height=\"24px\"viewBox=\"0 0 24 24\"\n",
              "     width=\"24px\">\n",
              "    <g>\n",
              "        <path d=\"M19 3H5c-1.1 0-2 .9-2 2v14c0 1.1.9 2 2 2h14c1.1 0 2-.9 2-2V5c0-1.1-.9-2-2-2zM9 17H7v-7h2v7zm4 0h-2V7h2v10zm4 0h-2v-4h2v4z\"/>\n",
              "    </g>\n",
              "</svg>\n",
              "  </button>\n",
              "\n",
              "<style>\n",
              "  .colab-df-quickchart {\n",
              "      --bg-color: #E8F0FE;\n",
              "      --fill-color: #1967D2;\n",
              "      --hover-bg-color: #E2EBFA;\n",
              "      --hover-fill-color: #174EA6;\n",
              "      --disabled-fill-color: #AAA;\n",
              "      --disabled-bg-color: #DDD;\n",
              "  }\n",
              "\n",
              "  [theme=dark] .colab-df-quickchart {\n",
              "      --bg-color: #3B4455;\n",
              "      --fill-color: #D2E3FC;\n",
              "      --hover-bg-color: #434B5C;\n",
              "      --hover-fill-color: #FFFFFF;\n",
              "      --disabled-bg-color: #3B4455;\n",
              "      --disabled-fill-color: #666;\n",
              "  }\n",
              "\n",
              "  .colab-df-quickchart {\n",
              "    background-color: var(--bg-color);\n",
              "    border: none;\n",
              "    border-radius: 50%;\n",
              "    cursor: pointer;\n",
              "    display: none;\n",
              "    fill: var(--fill-color);\n",
              "    height: 32px;\n",
              "    padding: 0;\n",
              "    width: 32px;\n",
              "  }\n",
              "\n",
              "  .colab-df-quickchart:hover {\n",
              "    background-color: var(--hover-bg-color);\n",
              "    box-shadow: 0 1px 2px rgba(60, 64, 67, 0.3), 0 1px 3px 1px rgba(60, 64, 67, 0.15);\n",
              "    fill: var(--button-hover-fill-color);\n",
              "  }\n",
              "\n",
              "  .colab-df-quickchart-complete:disabled,\n",
              "  .colab-df-quickchart-complete:disabled:hover {\n",
              "    background-color: var(--disabled-bg-color);\n",
              "    fill: var(--disabled-fill-color);\n",
              "    box-shadow: none;\n",
              "  }\n",
              "\n",
              "  .colab-df-spinner {\n",
              "    border: 2px solid var(--fill-color);\n",
              "    border-color: transparent;\n",
              "    border-bottom-color: var(--fill-color);\n",
              "    animation:\n",
              "      spin 1s steps(1) infinite;\n",
              "  }\n",
              "\n",
              "  @keyframes spin {\n",
              "    0% {\n",
              "      border-color: transparent;\n",
              "      border-bottom-color: var(--fill-color);\n",
              "      border-left-color: var(--fill-color);\n",
              "    }\n",
              "    20% {\n",
              "      border-color: transparent;\n",
              "      border-left-color: var(--fill-color);\n",
              "      border-top-color: var(--fill-color);\n",
              "    }\n",
              "    30% {\n",
              "      border-color: transparent;\n",
              "      border-left-color: var(--fill-color);\n",
              "      border-top-color: var(--fill-color);\n",
              "      border-right-color: var(--fill-color);\n",
              "    }\n",
              "    40% {\n",
              "      border-color: transparent;\n",
              "      border-right-color: var(--fill-color);\n",
              "      border-top-color: var(--fill-color);\n",
              "    }\n",
              "    60% {\n",
              "      border-color: transparent;\n",
              "      border-right-color: var(--fill-color);\n",
              "    }\n",
              "    80% {\n",
              "      border-color: transparent;\n",
              "      border-right-color: var(--fill-color);\n",
              "      border-bottom-color: var(--fill-color);\n",
              "    }\n",
              "    90% {\n",
              "      border-color: transparent;\n",
              "      border-bottom-color: var(--fill-color);\n",
              "    }\n",
              "  }\n",
              "</style>\n",
              "\n",
              "  <script>\n",
              "    async function quickchart(key) {\n",
              "      const quickchartButtonEl =\n",
              "        document.querySelector('#' + key + ' button');\n",
              "      quickchartButtonEl.disabled = true;  // To prevent multiple clicks.\n",
              "      quickchartButtonEl.classList.add('colab-df-spinner');\n",
              "      try {\n",
              "        const charts = await google.colab.kernel.invokeFunction(\n",
              "            'suggestCharts', [key], {});\n",
              "      } catch (error) {\n",
              "        console.error('Error during call to suggestCharts:', error);\n",
              "      }\n",
              "      quickchartButtonEl.classList.remove('colab-df-spinner');\n",
              "      quickchartButtonEl.classList.add('colab-df-quickchart-complete');\n",
              "    }\n",
              "    (() => {\n",
              "      let quickchartButtonEl =\n",
              "        document.querySelector('#df-e3d96a9e-f992-4419-b9cb-0eec550d8d49 button');\n",
              "      quickchartButtonEl.style.display =\n",
              "        google.colab.kernel.accessAllowed ? 'block' : 'none';\n",
              "    })();\n",
              "  </script>\n",
              "</div>\n",
              "\n",
              "    </div>\n",
              "  </div>\n"
            ],
            "application/vnd.google.colaboratory.intrinsic+json": {
              "type": "dataframe",
              "variable_name": "df_sale_seoul_long",
              "summary": "{\n  \"name\": \"df_sale_seoul_long\",\n  \"rows\": 20800,\n  \"fields\": [\n    {\n      \"column\": \"\\uc9c0\\uc5ed\\uba85\",\n      \"properties\": {\n        \"dtype\": \"category\",\n        \"num_unique_values\": 25,\n        \"samples\": [\n          \"\\uac15\\ubd81\\uad6c\",\n          \"\\uad6c\\ub85c\\uad6c\",\n          \"\\uc885\\ub85c\\uad6c\"\n        ],\n        \"semantic_type\": \"\",\n        \"description\": \"\"\n      }\n    },\n    {\n      \"column\": \"\\ub9e4\\ub9e4\\uac00\\uaca9\\uc9c0\\uc218\",\n      \"properties\": {\n        \"dtype\": \"date\",\n        \"min\": 50.1916299848,\n        \"max\": 103.0780125704,\n        \"num_unique_values\": 19797,\n        \"samples\": [\n          84.97200951,\n          59.5678610328,\n          100.05525751\n        ],\n        \"semantic_type\": \"\",\n        \"description\": \"\"\n      }\n    }\n  ]\n}"
            }
          },
          "metadata": {},
          "execution_count": 22
        }
      ]
    },
    {
      "cell_type": "code",
      "source": [
        "df_rent_seoul_long = df_rent.unstack().reset_index(level=0).copy()\n",
        "df_rent_seoul_long.columns = ['지역명', '전세가격지수']\n",
        "df_rent_seoul_long.head()"
      ],
      "metadata": {
        "colab": {
          "base_uri": "https://localhost:8080/",
          "height": 206
        },
        "id": "RVB7eyOnQu9g",
        "outputId": "1e8f09ca-125c-4ed2-9b72-8dc6a4262ca4"
      },
      "execution_count": 23,
      "outputs": [
        {
          "output_type": "execute_result",
          "data": {
            "text/plain": [
              "                     지역명     전세가격지수\n",
              "2008-04-07 00:00:52  종로구  54.168566\n",
              "2008-04-14 00:00:52  종로구  54.238522\n",
              "2008-04-21 00:00:52  종로구  54.238522\n",
              "2008-04-28 00:00:52  종로구  54.238522\n",
              "2008-05-05 00:00:52  종로구  54.268338"
            ],
            "text/html": [
              "\n",
              "  <div id=\"df-3dac50b0-40d1-42ce-bd2f-fb755b2c4a14\" class=\"colab-df-container\">\n",
              "    <div>\n",
              "<style scoped>\n",
              "    .dataframe tbody tr th:only-of-type {\n",
              "        vertical-align: middle;\n",
              "    }\n",
              "\n",
              "    .dataframe tbody tr th {\n",
              "        vertical-align: top;\n",
              "    }\n",
              "\n",
              "    .dataframe thead th {\n",
              "        text-align: right;\n",
              "    }\n",
              "</style>\n",
              "<table border=\"1\" class=\"dataframe\">\n",
              "  <thead>\n",
              "    <tr style=\"text-align: right;\">\n",
              "      <th></th>\n",
              "      <th>지역명</th>\n",
              "      <th>전세가격지수</th>\n",
              "    </tr>\n",
              "  </thead>\n",
              "  <tbody>\n",
              "    <tr>\n",
              "      <th>2008-04-07 00:00:52</th>\n",
              "      <td>종로구</td>\n",
              "      <td>54.168566</td>\n",
              "    </tr>\n",
              "    <tr>\n",
              "      <th>2008-04-14 00:00:52</th>\n",
              "      <td>종로구</td>\n",
              "      <td>54.238522</td>\n",
              "    </tr>\n",
              "    <tr>\n",
              "      <th>2008-04-21 00:00:52</th>\n",
              "      <td>종로구</td>\n",
              "      <td>54.238522</td>\n",
              "    </tr>\n",
              "    <tr>\n",
              "      <th>2008-04-28 00:00:52</th>\n",
              "      <td>종로구</td>\n",
              "      <td>54.238522</td>\n",
              "    </tr>\n",
              "    <tr>\n",
              "      <th>2008-05-05 00:00:52</th>\n",
              "      <td>종로구</td>\n",
              "      <td>54.268338</td>\n",
              "    </tr>\n",
              "  </tbody>\n",
              "</table>\n",
              "</div>\n",
              "    <div class=\"colab-df-buttons\">\n",
              "\n",
              "  <div class=\"colab-df-container\">\n",
              "    <button class=\"colab-df-convert\" onclick=\"convertToInteractive('df-3dac50b0-40d1-42ce-bd2f-fb755b2c4a14')\"\n",
              "            title=\"Convert this dataframe to an interactive table.\"\n",
              "            style=\"display:none;\">\n",
              "\n",
              "  <svg xmlns=\"http://www.w3.org/2000/svg\" height=\"24px\" viewBox=\"0 -960 960 960\">\n",
              "    <path d=\"M120-120v-720h720v720H120Zm60-500h600v-160H180v160Zm220 220h160v-160H400v160Zm0 220h160v-160H400v160ZM180-400h160v-160H180v160Zm440 0h160v-160H620v160ZM180-180h160v-160H180v160Zm440 0h160v-160H620v160Z\"/>\n",
              "  </svg>\n",
              "    </button>\n",
              "\n",
              "  <style>\n",
              "    .colab-df-container {\n",
              "      display:flex;\n",
              "      gap: 12px;\n",
              "    }\n",
              "\n",
              "    .colab-df-convert {\n",
              "      background-color: #E8F0FE;\n",
              "      border: none;\n",
              "      border-radius: 50%;\n",
              "      cursor: pointer;\n",
              "      display: none;\n",
              "      fill: #1967D2;\n",
              "      height: 32px;\n",
              "      padding: 0 0 0 0;\n",
              "      width: 32px;\n",
              "    }\n",
              "\n",
              "    .colab-df-convert:hover {\n",
              "      background-color: #E2EBFA;\n",
              "      box-shadow: 0px 1px 2px rgba(60, 64, 67, 0.3), 0px 1px 3px 1px rgba(60, 64, 67, 0.15);\n",
              "      fill: #174EA6;\n",
              "    }\n",
              "\n",
              "    .colab-df-buttons div {\n",
              "      margin-bottom: 4px;\n",
              "    }\n",
              "\n",
              "    [theme=dark] .colab-df-convert {\n",
              "      background-color: #3B4455;\n",
              "      fill: #D2E3FC;\n",
              "    }\n",
              "\n",
              "    [theme=dark] .colab-df-convert:hover {\n",
              "      background-color: #434B5C;\n",
              "      box-shadow: 0px 1px 3px 1px rgba(0, 0, 0, 0.15);\n",
              "      filter: drop-shadow(0px 1px 2px rgba(0, 0, 0, 0.3));\n",
              "      fill: #FFFFFF;\n",
              "    }\n",
              "  </style>\n",
              "\n",
              "    <script>\n",
              "      const buttonEl =\n",
              "        document.querySelector('#df-3dac50b0-40d1-42ce-bd2f-fb755b2c4a14 button.colab-df-convert');\n",
              "      buttonEl.style.display =\n",
              "        google.colab.kernel.accessAllowed ? 'block' : 'none';\n",
              "\n",
              "      async function convertToInteractive(key) {\n",
              "        const element = document.querySelector('#df-3dac50b0-40d1-42ce-bd2f-fb755b2c4a14');\n",
              "        const dataTable =\n",
              "          await google.colab.kernel.invokeFunction('convertToInteractive',\n",
              "                                                    [key], {});\n",
              "        if (!dataTable) return;\n",
              "\n",
              "        const docLinkHtml = 'Like what you see? Visit the ' +\n",
              "          '<a target=\"_blank\" href=https://colab.research.google.com/notebooks/data_table.ipynb>data table notebook</a>'\n",
              "          + ' to learn more about interactive tables.';\n",
              "        element.innerHTML = '';\n",
              "        dataTable['output_type'] = 'display_data';\n",
              "        await google.colab.output.renderOutput(dataTable, element);\n",
              "        const docLink = document.createElement('div');\n",
              "        docLink.innerHTML = docLinkHtml;\n",
              "        element.appendChild(docLink);\n",
              "      }\n",
              "    </script>\n",
              "  </div>\n",
              "\n",
              "\n",
              "<div id=\"df-37e8d2ea-dfe0-4e5b-99e2-16628146de31\">\n",
              "  <button class=\"colab-df-quickchart\" onclick=\"quickchart('df-37e8d2ea-dfe0-4e5b-99e2-16628146de31')\"\n",
              "            title=\"Suggest charts\"\n",
              "            style=\"display:none;\">\n",
              "\n",
              "<svg xmlns=\"http://www.w3.org/2000/svg\" height=\"24px\"viewBox=\"0 0 24 24\"\n",
              "     width=\"24px\">\n",
              "    <g>\n",
              "        <path d=\"M19 3H5c-1.1 0-2 .9-2 2v14c0 1.1.9 2 2 2h14c1.1 0 2-.9 2-2V5c0-1.1-.9-2-2-2zM9 17H7v-7h2v7zm4 0h-2V7h2v10zm4 0h-2v-4h2v4z\"/>\n",
              "    </g>\n",
              "</svg>\n",
              "  </button>\n",
              "\n",
              "<style>\n",
              "  .colab-df-quickchart {\n",
              "      --bg-color: #E8F0FE;\n",
              "      --fill-color: #1967D2;\n",
              "      --hover-bg-color: #E2EBFA;\n",
              "      --hover-fill-color: #174EA6;\n",
              "      --disabled-fill-color: #AAA;\n",
              "      --disabled-bg-color: #DDD;\n",
              "  }\n",
              "\n",
              "  [theme=dark] .colab-df-quickchart {\n",
              "      --bg-color: #3B4455;\n",
              "      --fill-color: #D2E3FC;\n",
              "      --hover-bg-color: #434B5C;\n",
              "      --hover-fill-color: #FFFFFF;\n",
              "      --disabled-bg-color: #3B4455;\n",
              "      --disabled-fill-color: #666;\n",
              "  }\n",
              "\n",
              "  .colab-df-quickchart {\n",
              "    background-color: var(--bg-color);\n",
              "    border: none;\n",
              "    border-radius: 50%;\n",
              "    cursor: pointer;\n",
              "    display: none;\n",
              "    fill: var(--fill-color);\n",
              "    height: 32px;\n",
              "    padding: 0;\n",
              "    width: 32px;\n",
              "  }\n",
              "\n",
              "  .colab-df-quickchart:hover {\n",
              "    background-color: var(--hover-bg-color);\n",
              "    box-shadow: 0 1px 2px rgba(60, 64, 67, 0.3), 0 1px 3px 1px rgba(60, 64, 67, 0.15);\n",
              "    fill: var(--button-hover-fill-color);\n",
              "  }\n",
              "\n",
              "  .colab-df-quickchart-complete:disabled,\n",
              "  .colab-df-quickchart-complete:disabled:hover {\n",
              "    background-color: var(--disabled-bg-color);\n",
              "    fill: var(--disabled-fill-color);\n",
              "    box-shadow: none;\n",
              "  }\n",
              "\n",
              "  .colab-df-spinner {\n",
              "    border: 2px solid var(--fill-color);\n",
              "    border-color: transparent;\n",
              "    border-bottom-color: var(--fill-color);\n",
              "    animation:\n",
              "      spin 1s steps(1) infinite;\n",
              "  }\n",
              "\n",
              "  @keyframes spin {\n",
              "    0% {\n",
              "      border-color: transparent;\n",
              "      border-bottom-color: var(--fill-color);\n",
              "      border-left-color: var(--fill-color);\n",
              "    }\n",
              "    20% {\n",
              "      border-color: transparent;\n",
              "      border-left-color: var(--fill-color);\n",
              "      border-top-color: var(--fill-color);\n",
              "    }\n",
              "    30% {\n",
              "      border-color: transparent;\n",
              "      border-left-color: var(--fill-color);\n",
              "      border-top-color: var(--fill-color);\n",
              "      border-right-color: var(--fill-color);\n",
              "    }\n",
              "    40% {\n",
              "      border-color: transparent;\n",
              "      border-right-color: var(--fill-color);\n",
              "      border-top-color: var(--fill-color);\n",
              "    }\n",
              "    60% {\n",
              "      border-color: transparent;\n",
              "      border-right-color: var(--fill-color);\n",
              "    }\n",
              "    80% {\n",
              "      border-color: transparent;\n",
              "      border-right-color: var(--fill-color);\n",
              "      border-bottom-color: var(--fill-color);\n",
              "    }\n",
              "    90% {\n",
              "      border-color: transparent;\n",
              "      border-bottom-color: var(--fill-color);\n",
              "    }\n",
              "  }\n",
              "</style>\n",
              "\n",
              "  <script>\n",
              "    async function quickchart(key) {\n",
              "      const quickchartButtonEl =\n",
              "        document.querySelector('#' + key + ' button');\n",
              "      quickchartButtonEl.disabled = true;  // To prevent multiple clicks.\n",
              "      quickchartButtonEl.classList.add('colab-df-spinner');\n",
              "      try {\n",
              "        const charts = await google.colab.kernel.invokeFunction(\n",
              "            'suggestCharts', [key], {});\n",
              "      } catch (error) {\n",
              "        console.error('Error during call to suggestCharts:', error);\n",
              "      }\n",
              "      quickchartButtonEl.classList.remove('colab-df-spinner');\n",
              "      quickchartButtonEl.classList.add('colab-df-quickchart-complete');\n",
              "    }\n",
              "    (() => {\n",
              "      let quickchartButtonEl =\n",
              "        document.querySelector('#df-37e8d2ea-dfe0-4e5b-99e2-16628146de31 button');\n",
              "      quickchartButtonEl.style.display =\n",
              "        google.colab.kernel.accessAllowed ? 'block' : 'none';\n",
              "    })();\n",
              "  </script>\n",
              "</div>\n",
              "\n",
              "    </div>\n",
              "  </div>\n"
            ],
            "application/vnd.google.colaboratory.intrinsic+json": {
              "type": "dataframe",
              "variable_name": "df_rent_seoul_long",
              "summary": "{\n  \"name\": \"df_rent_seoul_long\",\n  \"rows\": 20800,\n  \"fields\": [\n    {\n      \"column\": \"\\uc9c0\\uc5ed\\uba85\",\n      \"properties\": {\n        \"dtype\": \"category\",\n        \"num_unique_values\": 25,\n        \"samples\": [\n          \"\\uac15\\ubd81\\uad6c\",\n          \"\\uad6c\\ub85c\\uad6c\",\n          \"\\uc885\\ub85c\\uad6c\"\n        ],\n        \"semantic_type\": \"\",\n        \"description\": \"\"\n      }\n    },\n    {\n      \"column\": \"\\uc804\\uc138\\uac00\\uaca9\\uc9c0\\uc218\",\n      \"properties\": {\n        \"dtype\": \"date\",\n        \"min\": 35.0657388245,\n        \"max\": 103.4364322689,\n        \"num_unique_values\": 19399,\n        \"samples\": [\n          43.3631529888,\n          71.4384820394,\n          98.547852\n        ],\n        \"semantic_type\": \"\",\n        \"description\": \"\"\n      }\n    }\n  ]\n}"
            }
          },
          "metadata": {},
          "execution_count": 23
        }
      ]
    },
    {
      "cell_type": "code",
      "source": [
        "df_sale_seoul_long.shape, df_rent_seoul_long.shape"
      ],
      "metadata": {
        "colab": {
          "base_uri": "https://localhost:8080/"
        },
        "id": "oyq63OibRUZH",
        "outputId": "212a9848-8676-4383-9e2a-0040877db29e"
      },
      "execution_count": 24,
      "outputs": [
        {
          "output_type": "execute_result",
          "data": {
            "text/plain": [
              "((20800, 2), (20800, 2))"
            ]
          },
          "metadata": {},
          "execution_count": 24
        }
      ]
    },
    {
      "cell_type": "markdown",
      "source": [
        "# 데이터 시각화\n",
        "- 전처리가 수행된 데이터 프레임  `df_sale_seoul`와 `df_rent_seoul` 또는 `df_sale_seoul_long`, `df_rent_seoul_long`을 사용하여 데이터 시각화 수행\n",
        "- (예시)\n",
        "    - `강남구`의 날짜별 `매매가격지수`, `전세가격지수` 시각화\n",
        "    - `강남구`의 `매매가격지수`, `전세가격지수` 상관관계 시각화\n",
        "    - `매매가격지수`와 `전세가격지수`의 차이가 가장 큰(적은) 지역을 판단하고, 해당 지역에 가격지수를 시각화\n",
        "    - 연도별 데이터 집계하여 시각화 등\n",
        "    \n",
        "- 필요 시 추가 데이터 전처리 수행    "
      ],
      "metadata": {
        "id": "TZPJLhBfVLMt"
      }
    },
    {
      "cell_type": "code",
      "source": [
        "import seaborn as sns\n",
        "import matplotlib.pyplot as plt\n",
        "\n",
        "# 한글 폰트(나눔고딕)을 기본 폰트로 사용하도록 설정\n",
        "plt.rcParams[\"font.family\"] = 'NanumGothic'\n",
        "\n",
        "# 그래프에서 마이너스 폰트 깨지는 문제 해결\n",
        "plt.rcParams['axes.unicode_minus'] = False"
      ],
      "metadata": {
        "id": "nC9stsPs11na"
      },
      "execution_count": 25,
      "outputs": []
    },
    {
      "cell_type": "markdown",
      "source": [
        "### 강남구의 날짜별 매매가격지수, 전세가격지수 시각화"
      ],
      "metadata": {
        "id": "PiKSLcKQFk4o"
      }
    },
    {
      "cell_type": "code",
      "source": [
        "# index 데이터의 자료형을 날짜 형식으로 변경\n",
        "df_sale.index = pd.to_datetime(df_sale.index)\n",
        "df_rent.index = pd.to_datetime(df_rent.index)"
      ],
      "metadata": {
        "id": "RO6oraRFeyk0"
      },
      "execution_count": 26,
      "outputs": []
    },
    {
      "cell_type": "code",
      "source": [
        "df_sale.index"
      ],
      "metadata": {
        "colab": {
          "base_uri": "https://localhost:8080/"
        },
        "collapsed": true,
        "id": "PYpmT4mXfMYv",
        "outputId": "dff46999-a3dd-46e4-90e4-2e085db58b00"
      },
      "execution_count": 27,
      "outputs": [
        {
          "output_type": "execute_result",
          "data": {
            "text/plain": [
              "DatetimeIndex(['2008-04-07 00:00:52', '2008-04-14 00:00:52',\n",
              "               '2008-04-21 00:00:52', '2008-04-28 00:00:52',\n",
              "               '2008-05-05 00:00:52', '2008-05-12 00:00:52',\n",
              "               '2008-05-19 00:00:52', '2008-05-26 00:00:52',\n",
              "               '2008-06-02 00:00:52', '2008-06-09 00:00:52',\n",
              "               ...\n",
              "               '2024-08-05 00:00:52', '2024-08-12 00:00:52',\n",
              "               '2024-08-19 00:00:52', '2024-08-26 00:00:52',\n",
              "               '2024-09-02 00:00:52', '2024-09-09 00:00:52',\n",
              "               '2024-09-23 00:00:52', '2024-09-30 00:00:52',\n",
              "               '2024-10-07 00:00:52', '2024-10-14 00:00:52'],\n",
              "              dtype='datetime64[ns]', length=832, freq=None)"
            ]
          },
          "metadata": {},
          "execution_count": 27
        }
      ]
    },
    {
      "cell_type": "code",
      "source": [
        "# 코드를 작성하시오\n",
        "# df_sale와 df_rent 또는 df_sale_seoul_long, df_rent_seoul_long\n",
        "# df_sale['강남구'].plot()\n",
        "\n",
        "# figure size 설정\n",
        "plt.figure(figsize=(12, 6))\n",
        "# lineplot\n",
        "plt.plot(df_sale['강남구'], label='매매가격지수')\n",
        "plt.plot(df_rent['강남구'], label='전세가격지수')\n",
        "plt.title('강남구의 날짜별 매매가격지수, 전세가격지수')\n",
        "plt.xlabel('날짜')\n",
        "plt.ylabel('가격지수')\n",
        "plt.legend()\n",
        "plt.show()"
      ],
      "metadata": {
        "id": "QP7KZQVpGLSa",
        "colab": {
          "base_uri": "https://localhost:8080/",
          "height": 1000
        },
        "outputId": "285588bd-00c9-4c51-aec7-fb30cc9848bf"
      },
      "execution_count": 28,
      "outputs": [
        {
          "output_type": "stream",
          "name": "stderr",
          "text": [
            "WARNING:matplotlib.font_manager:findfont: Font family 'NanumGothic' not found.\n",
            "WARNING:matplotlib.font_manager:findfont: Font family 'NanumGothic' not found.\n",
            "WARNING:matplotlib.font_manager:findfont: Font family 'NanumGothic' not found.\n",
            "WARNING:matplotlib.font_manager:findfont: Font family 'NanumGothic' not found.\n",
            "WARNING:matplotlib.font_manager:findfont: Font family 'NanumGothic' not found.\n",
            "WARNING:matplotlib.font_manager:findfont: Font family 'NanumGothic' not found.\n",
            "WARNING:matplotlib.font_manager:findfont: Font family 'NanumGothic' not found.\n",
            "WARNING:matplotlib.font_manager:findfont: Font family 'NanumGothic' not found.\n",
            "/usr/local/lib/python3.10/dist-packages/IPython/core/pylabtools.py:151: UserWarning: Glyph 44032 (\\N{HANGUL SYLLABLE GA}) missing from current font.\n",
            "  fig.canvas.print_figure(bytes_io, **kw)\n",
            "/usr/local/lib/python3.10/dist-packages/IPython/core/pylabtools.py:151: UserWarning: Glyph 44201 (\\N{HANGUL SYLLABLE GYEOG}) missing from current font.\n",
            "  fig.canvas.print_figure(bytes_io, **kw)\n",
            "/usr/local/lib/python3.10/dist-packages/IPython/core/pylabtools.py:151: UserWarning: Glyph 51648 (\\N{HANGUL SYLLABLE JI}) missing from current font.\n",
            "  fig.canvas.print_figure(bytes_io, **kw)\n",
            "/usr/local/lib/python3.10/dist-packages/IPython/core/pylabtools.py:151: UserWarning: Glyph 49688 (\\N{HANGUL SYLLABLE SU}) missing from current font.\n",
            "  fig.canvas.print_figure(bytes_io, **kw)\n",
            "WARNING:matplotlib.font_manager:findfont: Font family 'NanumGothic' not found.\n",
            "WARNING:matplotlib.font_manager:findfont: Font family 'NanumGothic' not found.\n",
            "/usr/local/lib/python3.10/dist-packages/IPython/core/pylabtools.py:151: UserWarning: Glyph 44053 (\\N{HANGUL SYLLABLE GANG}) missing from current font.\n",
            "  fig.canvas.print_figure(bytes_io, **kw)\n",
            "/usr/local/lib/python3.10/dist-packages/IPython/core/pylabtools.py:151: UserWarning: Glyph 45224 (\\N{HANGUL SYLLABLE NAM}) missing from current font.\n",
            "  fig.canvas.print_figure(bytes_io, **kw)\n",
            "/usr/local/lib/python3.10/dist-packages/IPython/core/pylabtools.py:151: UserWarning: Glyph 44396 (\\N{HANGUL SYLLABLE GU}) missing from current font.\n",
            "  fig.canvas.print_figure(bytes_io, **kw)\n",
            "/usr/local/lib/python3.10/dist-packages/IPython/core/pylabtools.py:151: UserWarning: Glyph 51032 (\\N{HANGUL SYLLABLE YI}) missing from current font.\n",
            "  fig.canvas.print_figure(bytes_io, **kw)\n",
            "/usr/local/lib/python3.10/dist-packages/IPython/core/pylabtools.py:151: UserWarning: Glyph 45216 (\\N{HANGUL SYLLABLE NAL}) missing from current font.\n",
            "  fig.canvas.print_figure(bytes_io, **kw)\n",
            "/usr/local/lib/python3.10/dist-packages/IPython/core/pylabtools.py:151: UserWarning: Glyph 51676 (\\N{HANGUL SYLLABLE JJA}) missing from current font.\n",
            "  fig.canvas.print_figure(bytes_io, **kw)\n",
            "/usr/local/lib/python3.10/dist-packages/IPython/core/pylabtools.py:151: UserWarning: Glyph 48324 (\\N{HANGUL SYLLABLE BYEOL}) missing from current font.\n",
            "  fig.canvas.print_figure(bytes_io, **kw)\n",
            "/usr/local/lib/python3.10/dist-packages/IPython/core/pylabtools.py:151: UserWarning: Glyph 47588 (\\N{HANGUL SYLLABLE MAE}) missing from current font.\n",
            "  fig.canvas.print_figure(bytes_io, **kw)\n",
            "/usr/local/lib/python3.10/dist-packages/IPython/core/pylabtools.py:151: UserWarning: Glyph 51204 (\\N{HANGUL SYLLABLE JEON}) missing from current font.\n",
            "  fig.canvas.print_figure(bytes_io, **kw)\n",
            "/usr/local/lib/python3.10/dist-packages/IPython/core/pylabtools.py:151: UserWarning: Glyph 49464 (\\N{HANGUL SYLLABLE SE}) missing from current font.\n",
            "  fig.canvas.print_figure(bytes_io, **kw)\n",
            "WARNING:matplotlib.font_manager:findfont: Font family 'NanumGothic' not found.\n",
            "WARNING:matplotlib.font_manager:findfont: Font family 'NanumGothic' not found.\n",
            "WARNING:matplotlib.font_manager:findfont: Font family 'NanumGothic' not found.\n",
            "WARNING:matplotlib.font_manager:findfont: Font family 'NanumGothic' not found.\n",
            "WARNING:matplotlib.font_manager:findfont: Font family 'NanumGothic' not found.\n",
            "WARNING:matplotlib.font_manager:findfont: Font family 'NanumGothic' not found.\n",
            "WARNING:matplotlib.font_manager:findfont: Font family 'NanumGothic' not found.\n",
            "WARNING:matplotlib.font_manager:findfont: Font family 'NanumGothic' not found.\n",
            "WARNING:matplotlib.font_manager:findfont: Font family 'NanumGothic' not found.\n",
            "WARNING:matplotlib.font_manager:findfont: Font family 'NanumGothic' not found.\n",
            "WARNING:matplotlib.font_manager:findfont: Font family 'NanumGothic' not found.\n",
            "WARNING:matplotlib.font_manager:findfont: Font family 'NanumGothic' not found.\n",
            "WARNING:matplotlib.font_manager:findfont: Font family 'NanumGothic' not found.\n",
            "WARNING:matplotlib.font_manager:findfont: Font family 'NanumGothic' not found.\n",
            "WARNING:matplotlib.font_manager:findfont: Font family 'NanumGothic' not found.\n",
            "WARNING:matplotlib.font_manager:findfont: Font family 'NanumGothic' not found.\n",
            "WARNING:matplotlib.font_manager:findfont: Font family 'NanumGothic' not found.\n",
            "WARNING:matplotlib.font_manager:findfont: Font family 'NanumGothic' not found.\n",
            "WARNING:matplotlib.font_manager:findfont: Font family 'NanumGothic' not found.\n",
            "WARNING:matplotlib.font_manager:findfont: Font family 'NanumGothic' not found.\n",
            "WARNING:matplotlib.font_manager:findfont: Font family 'NanumGothic' not found.\n",
            "WARNING:matplotlib.font_manager:findfont: Font family 'NanumGothic' not found.\n",
            "WARNING:matplotlib.font_manager:findfont: Font family 'NanumGothic' not found.\n",
            "WARNING:matplotlib.font_manager:findfont: Font family 'NanumGothic' not found.\n",
            "WARNING:matplotlib.font_manager:findfont: Font family 'NanumGothic' not found.\n",
            "WARNING:matplotlib.font_manager:findfont: Font family 'NanumGothic' not found.\n",
            "WARNING:matplotlib.font_manager:findfont: Font family 'NanumGothic' not found.\n",
            "WARNING:matplotlib.font_manager:findfont: Font family 'NanumGothic' not found.\n",
            "WARNING:matplotlib.font_manager:findfont: Font family 'NanumGothic' not found.\n",
            "WARNING:matplotlib.font_manager:findfont: Font family 'NanumGothic' not found.\n",
            "WARNING:matplotlib.font_manager:findfont: Font family 'NanumGothic' not found.\n",
            "WARNING:matplotlib.font_manager:findfont: Font family 'NanumGothic' not found.\n",
            "WARNING:matplotlib.font_manager:findfont: Font family 'NanumGothic' not found.\n",
            "WARNING:matplotlib.font_manager:findfont: Font family 'NanumGothic' not found.\n",
            "WARNING:matplotlib.font_manager:findfont: Font family 'NanumGothic' not found.\n",
            "WARNING:matplotlib.font_manager:findfont: Font family 'NanumGothic' not found.\n",
            "WARNING:matplotlib.font_manager:findfont: Font family 'NanumGothic' not found.\n",
            "WARNING:matplotlib.font_manager:findfont: Font family 'NanumGothic' not found.\n",
            "WARNING:matplotlib.font_manager:findfont: Font family 'NanumGothic' not found.\n",
            "WARNING:matplotlib.font_manager:findfont: Font family 'NanumGothic' not found.\n",
            "WARNING:matplotlib.font_manager:findfont: Font family 'NanumGothic' not found.\n",
            "WARNING:matplotlib.font_manager:findfont: Font family 'NanumGothic' not found.\n",
            "WARNING:matplotlib.font_manager:findfont: Font family 'NanumGothic' not found.\n",
            "WARNING:matplotlib.font_manager:findfont: Font family 'NanumGothic' not found.\n",
            "WARNING:matplotlib.font_manager:findfont: Font family 'NanumGothic' not found.\n",
            "WARNING:matplotlib.font_manager:findfont: Font family 'NanumGothic' not found.\n",
            "WARNING:matplotlib.font_manager:findfont: Font family 'NanumGothic' not found.\n",
            "WARNING:matplotlib.font_manager:findfont: Font family 'NanumGothic' not found.\n",
            "WARNING:matplotlib.font_manager:findfont: Font family 'NanumGothic' not found.\n",
            "WARNING:matplotlib.font_manager:findfont: Font family 'NanumGothic' not found.\n",
            "WARNING:matplotlib.font_manager:findfont: Font family 'NanumGothic' not found.\n",
            "WARNING:matplotlib.font_manager:findfont: Font family 'NanumGothic' not found.\n",
            "WARNING:matplotlib.font_manager:findfont: Font family 'NanumGothic' not found.\n",
            "WARNING:matplotlib.font_manager:findfont: Font family 'NanumGothic' not found.\n",
            "WARNING:matplotlib.font_manager:findfont: Font family 'NanumGothic' not found.\n",
            "WARNING:matplotlib.font_manager:findfont: Font family 'NanumGothic' not found.\n",
            "WARNING:matplotlib.font_manager:findfont: Font family 'NanumGothic' not found.\n",
            "WARNING:matplotlib.font_manager:findfont: Font family 'NanumGothic' not found.\n",
            "WARNING:matplotlib.font_manager:findfont: Font family 'NanumGothic' not found.\n",
            "WARNING:matplotlib.font_manager:findfont: Font family 'NanumGothic' not found.\n",
            "WARNING:matplotlib.font_manager:findfont: Font family 'NanumGothic' not found.\n",
            "WARNING:matplotlib.font_manager:findfont: Font family 'NanumGothic' not found.\n",
            "WARNING:matplotlib.font_manager:findfont: Font family 'NanumGothic' not found.\n",
            "WARNING:matplotlib.font_manager:findfont: Font family 'NanumGothic' not found.\n",
            "WARNING:matplotlib.font_manager:findfont: Font family 'NanumGothic' not found.\n",
            "WARNING:matplotlib.font_manager:findfont: Font family 'NanumGothic' not found.\n",
            "WARNING:matplotlib.font_manager:findfont: Font family 'NanumGothic' not found.\n",
            "WARNING:matplotlib.font_manager:findfont: Font family 'NanumGothic' not found.\n",
            "WARNING:matplotlib.font_manager:findfont: Font family 'NanumGothic' not found.\n",
            "WARNING:matplotlib.font_manager:findfont: Font family 'NanumGothic' not found.\n",
            "WARNING:matplotlib.font_manager:findfont: Font family 'NanumGothic' not found.\n",
            "WARNING:matplotlib.font_manager:findfont: Font family 'NanumGothic' not found.\n",
            "WARNING:matplotlib.font_manager:findfont: Font family 'NanumGothic' not found.\n",
            "WARNING:matplotlib.font_manager:findfont: Font family 'NanumGothic' not found.\n",
            "WARNING:matplotlib.font_manager:findfont: Font family 'NanumGothic' not found.\n",
            "WARNING:matplotlib.font_manager:findfont: Font family 'NanumGothic' not found.\n",
            "WARNING:matplotlib.font_manager:findfont: Font family 'NanumGothic' not found.\n",
            "WARNING:matplotlib.font_manager:findfont: Font family 'NanumGothic' not found.\n",
            "WARNING:matplotlib.font_manager:findfont: Font family 'NanumGothic' not found.\n",
            "WARNING:matplotlib.font_manager:findfont: Font family 'NanumGothic' not found.\n"
          ]
        },
        {
          "output_type": "display_data",
          "data": {
            "text/plain": [
              "<Figure size 1200x600 with 1 Axes>"
            ],
            "image/png": "[encoded data removed]"
          },
          "metadata": {}
        }
      ]
    },
    {
      "cell_type": "markdown",
      "source": [
        "### 강남구의 매매가격지수, 전세가격지수 상관관계 시각화"
      ],
      "metadata": {
        "id": "ds9TKyLLFwJL"
      }
    },
    {
      "cell_type": "code",
      "source": [
        "# 코드를 작성하시오\n",
        "\n",
        "# 강남구의 매매가격지수 데이터와 강남구의 전세가격지수 데이터를 concat\n",
        "df_kangnam = pd.concat([df_sale['강남구'], df_rent['강남구']], axis=1)\n",
        "df_kangnam.columns = ['매매가격지수', '전세가격지수']\n",
        "df_kangnam.head()"
      ],
      "metadata": {
        "id": "tIlIser85uVL"
      },
      "execution_count": null,
      "outputs": []
    },
    {
      "cell_type": "code",
      "source": [
        "# 두 데이터의 상관관계를 시각화하기위해 scatterplot으로 시각화\n",
        "sns.scatterplot(data=df_kangnam, x='매매가격지수', y='전세가격지수')"
      ],
      "metadata": {
        "id": "4j87F1GBg5Lr"
      },
      "execution_count": null,
      "outputs": []
    },
    {
      "cell_type": "code",
      "source": [
        "plt.scatter(df_sale['강남구'], df_rent['강남구'])\n",
        "plt.xlabel('매매가격지수')\n",
        "plt.ylabel('전세가격지수')\n",
        "plt.show()"
      ],
      "metadata": {
        "id": "4qaWS75biImD"
      },
      "execution_count": null,
      "outputs": []
    },
    {
      "cell_type": "markdown",
      "source": [
        "### 매매가격지수와 전세가격지수의 차이가 가장 큰(or 적은) 지역을 판단하고, 해당 지역에 가격지수를 시각화"
      ],
      "metadata": {
        "id": "8MqPsflcF63E"
      }
    },
    {
      "cell_type": "code",
      "source": [
        "# 코드를 작성하시오\n",
        "df_sale_seoul_long#, df_rent_seoul_long\n",
        "df_sale_seoul_long['전세가격지수'] = df_rent_seoul_long['전세가격지수']\n",
        "df_sale_seoul_long['diff'] = abs(df_sale_seoul_long['매매가격지수'] - df_sale_seoul_long['전세가격지수'])\n",
        "df_sale_seoul_long.head(2)"
      ],
      "metadata": {
        "id": "WD8uQMp5GEhK"
      },
      "execution_count": null,
      "outputs": []
    },
    {
      "cell_type": "code",
      "source": [
        "# 차이(diff)가 가장 큰 값\n",
        "df_sale_seoul_long.sort_values(by='diff', ascending=False).head(1)"
      ],
      "metadata": {
        "id": "_2maPN6VoM8o"
      },
      "execution_count": null,
      "outputs": []
    },
    {
      "cell_type": "code",
      "source": [
        "# 차이(diff)가 가장 작은 값\n",
        "df_sale_seoul_long.sort_values(by='diff', ascending=True).head(1)"
      ],
      "metadata": {
        "id": "ET8k9kebn99M"
      },
      "execution_count": null,
      "outputs": []
    },
    {
      "cell_type": "code",
      "source": [
        "# 아무 쓸모없는 그래프[경고]\n",
        "df_sale_seoul_long['diff'].plot()"
      ],
      "metadata": {
        "id": "GKEhQIcOobZe"
      },
      "execution_count": null,
      "outputs": []
    },
    {
      "cell_type": "markdown",
      "source": [
        "### '강남구'의 매매가격지수변동률과 전세가격지수 변동률을 구하고, 시각화"
      ],
      "metadata": {
        "id": "JqY4SbTrGHK2"
      }
    },
    {
      "cell_type": "code",
      "source": [
        "# 코드를 작성하시오\n",
        "df_sale_seoul_long['매매가격지수변동률'] = df_sale_seoul_long['매매가격지수'].pct_change().copy()\n",
        "df_sale_seoul_long['전세가격지수변동률'] = df_sale_seoul_long['전세가격지수'].pct_change().copy()"
      ],
      "metadata": {
        "id": "LlE0JtRuGGtl"
      },
      "execution_count": null,
      "outputs": []
    },
    {
      "cell_type": "code",
      "source": [
        "df_sale_seoul_long.index = pd.to_datetime(df_sale_seoul_long.index)"
      ],
      "metadata": {
        "id": "rxKhUbwIp9EW"
      },
      "execution_count": null,
      "outputs": []
    },
    {
      "cell_type": "code",
      "source": [
        "df_sale_seoul_long.dropna(inplace=True)"
      ],
      "metadata": {
        "id": "GNhXa3XbqFLB"
      },
      "execution_count": null,
      "outputs": []
    },
    {
      "cell_type": "code",
      "source": [
        "df_sale_seoul_long"
      ],
      "metadata": {
        "id": "-z-Bw1WYrWMr"
      },
      "execution_count": null,
      "outputs": []
    },
    {
      "cell_type": "code",
      "source": [
        "temp_df = df_sale_seoul_long[df_sale_seoul_long['지역명'] == '종로구']"
      ],
      "metadata": {
        "id": "xKVRKpjgr8he"
      },
      "execution_count": null,
      "outputs": []
    },
    {
      "cell_type": "code",
      "source": [
        "# figure size 설정\n",
        "plt.figure(figsize=(12, 6))\n",
        "# lineplot\n",
        "plt.plot(temp_df['매매가격지수변동률'], label='매매가격지수변동률')\n",
        "plt.plot(temp_df['전세가격지수변동률'], label='전세가격지수변동률')\n",
        "plt.title('종로구의 날짜별 매매가격지수변동률, 전세가격지수변동률')\n",
        "plt.xlabel('날짜')\n",
        "plt.ylabel('가격지수변동률')\n",
        "plt.legend()\n",
        "plt.show()"
      ],
      "metadata": {
        "id": "PAUMFY0Xpn-8"
      },
      "execution_count": null,
      "outputs": []
    },
    {
      "cell_type": "markdown",
      "source": [
        "### 서울 지역별 특정 시점(예. 24년 10월) 기준 전세가격지수 변동률을 히트맵으로 시각화"
      ],
      "metadata": {
        "id": "JTT_-_E2KBxa"
      }
    },
    {
      "cell_type": "code",
      "source": [
        "import folium\n",
        "from folium.plugins import HeatMap\n",
        "\n",
        "# 서울시 지역구별 위경도 및 인구수를 데이터프레임으로 생성\n",
        "data = {\n",
        "    'district': ['강남구', '강동구', '강서구', '관악구', '광진구', '구로구',\n",
        "                 '금천구', '노원구', '도봉구', '동대문구', '동작구', '마포구',\n",
        "                 '서대문구', '서초구', '성동구', '성북구', '송파구', '양천구',\n",
        "                 '영등포구', '용산구', '은평구', '종로구', '중구', '중랑구'],\n",
        "    'latitude': [37.4979, 37.5307, 37.5502, 37.4783, 37.5407, 37.4950,\n",
        "                 37.4574, 37.6529, 37.6692, 37.5743, 37.5125, 37.5547,\n",
        "                 37.5772, 37.4845, 37.5636, 37.5894, 37.5155, 37.5110,\n",
        "                 37.5260, 37.5326, 37.6063, 37.5700, 37.5636, 37.6016],\n",
        "    'longitude': [127.0276, 127.1237, 126.8499, 126.9515, 127.0823, 126.8824,\n",
        "                  126.8956, 127.0771, 127.0335, 127.0395, 126.9810, 126.9067,\n",
        "                  126.9368, 127.0322, 127.0425, 127.0117, 127.1050, 126.8642,\n",
        "                  126.9035, 126.9947, 126.9280, 126.9800, 126.9970, 127.0959],\n",
        "}\n",
        "\n",
        "# 데이터프레임 생성\n",
        "seoul_GIS = pd.DataFrame(data)"
      ],
      "metadata": {
        "id": "cETnNWyoD-3r"
      },
      "execution_count": null,
      "outputs": []
    },
    {
      "cell_type": "code",
      "source": [
        "seoul_GIS.head()"
      ],
      "metadata": {
        "id": "kqqCLnDJq0wk"
      },
      "execution_count": null,
      "outputs": []
    },
    {
      "cell_type": "code",
      "source": [
        "# 코드를 작성하시오\n",
        "df_sale_seoul_long.head(2)"
      ],
      "metadata": {
        "id": "J4pDqQNdKYyx"
      },
      "execution_count": null,
      "outputs": []
    },
    {
      "cell_type": "code",
      "source": [
        "df_sale_seoul_long['연월'] = df_sale_seoul_long.index.strftime('%Y-%m')\n",
        "df_sale_seoul_long.head(2)"
      ],
      "metadata": {
        "id": "nMVJAU7tKaqU"
      },
      "execution_count": null,
      "outputs": []
    },
    {
      "cell_type": "code",
      "source": [
        "#1) 연월 == 2024-10 필터링\n",
        "#2) 연월, 지역명 기준 그룹\n",
        "#3) 전세가격지수변동률만 필터링\n",
        "#4) 평균값으로 agg\n",
        "#5) 그룹 해제\n",
        "# df_sale_seoul_long[df_sale_seoul_long['연월'] == '2024-10'].groupby(['연월', '지역명'])['전세가격지수변동률'].mean().reset_index()"
      ],
      "metadata": {
        "id": "yK1SiYBOvMyL"
      },
      "execution_count": null,
      "outputs": []
    },
    {
      "cell_type": "code",
      "source": [
        "df_sale_seoul_long[df_sale_seoul_long['연월'] == '2024-10'].groupby(['연월', '지역명'])['전세가격지수변동률'].mean().reset_index()"
      ],
      "metadata": {
        "id": "Xybn1rxUsiGZ"
      },
      "execution_count": null,
      "outputs": []
    },
    {
      "cell_type": "code",
      "source": [
        "df_rent_rate_oct = df_sale_seoul_long[df_sale_seoul_long['연월'] == '2024-10'].groupby(['연월', '지역명'])['전세가격지수변동률'].mean().reset_index()\n",
        "df_rent_rate_oct.head(2)"
      ],
      "metadata": {
        "id": "BGJ0D_U4s0-t"
      },
      "execution_count": null,
      "outputs": []
    },
    {
      "cell_type": "code",
      "source": [
        "# join에서 key로 사용하기 위한 컬럼의 이름을 동일하게 수정\n",
        "df_rent_rate_oct.rename(columns={'지역명': 'district'}, inplace=True)\n",
        "df_rent_rate_oct.head(2)"
      ],
      "metadata": {
        "id": "g8gsJkx_tJyr"
      },
      "execution_count": null,
      "outputs": []
    },
    {
      "cell_type": "code",
      "source": [
        "seoul_GIS.head(2)"
      ],
      "metadata": {
        "id": "pkfX0omItYJq"
      },
      "execution_count": null,
      "outputs": []
    },
    {
      "cell_type": "code",
      "source": [
        "# left join\n",
        "pd.merge(df_rent_rate_oct, seoul_GIS, on='district', how='left')"
      ],
      "metadata": {
        "id": "R_qfqWhAtUD3"
      },
      "execution_count": null,
      "outputs": []
    },
    {
      "cell_type": "code",
      "source": [
        "df_map = pd.merge(df_rent_rate_oct, seoul_GIS, on='district', how='left')"
      ],
      "metadata": {
        "id": "EBXYqDMHtaYv"
      },
      "execution_count": null,
      "outputs": []
    },
    {
      "cell_type": "code",
      "source": [
        "df_map.dropna(inplace=True)"
      ],
      "metadata": {
        "id": "wdRe9NPNt5bm"
      },
      "execution_count": null,
      "outputs": []
    },
    {
      "cell_type": "code",
      "source": [
        "heat_data = [[row['latitude'], row['longitude'], row['전세가격지수변동률']*1000] for index, row in df_map.iterrows()]\n",
        "\n",
        "m = folium.Map(location=[37.5502, 126.982], zoom_start=11)\n",
        "HeatMap(heat_data).add_to(m)\n",
        "\n",
        "m"
      ],
      "metadata": {
        "id": "OOulTe-OtjR2"
      },
      "execution_count": null,
      "outputs": []
    },
    {
      "cell_type": "code",
      "source": [],
      "metadata": {
        "id": "EUdpn8u7tpSf"
      },
      "execution_count": null,
      "outputs": []
    }
  ]
}